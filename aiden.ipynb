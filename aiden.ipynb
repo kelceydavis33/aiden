{
 "cells": [
  {
   "cell_type": "markdown",
   "id": "620da4fb-92e4-43a7-b572-737e26d365b8",
   "metadata": {},
   "source": [
    "# Aiden's Project\n",
    "----\n",
    "\n",
    "Fall 2025"
   ]
  },
  {
   "cell_type": "code",
   "execution_count": null,
   "id": "a9a74189-1220-4875-909d-fe0b18a19bb2",
   "metadata": {},
   "outputs": [],
   "source": [
    "# Importing the basics we need\n",
    "\n",
    "import astropy.units as u\n",
    "import astropy.constants as c\n",
    "from astropy.coordinates import SkyCoord, search_around_sky\n",
    "from astropy.time import Time\n",
    "import numpy as np\n",
    "from scipy import stats\n",
    "import matplotlib.pyplot as plt\n",
    "import pandas as pd\n",
    "import glob\n",
    "#%matplotlib notebook\n",
    "%matplotlib inline\n",
    "from astropy.io import fits\n",
    "from itertools import combinations\n",
    "import pickle\n",
    "from astropy.cosmology import WMAP9 as cosmo\n",
    "import seaborn as sns\n",
    "from astropy.table import Table\n",
    "\n",
    "\n",
    "#Setting up matplotlib how I like it - you can change this to reflect your preferences.\n",
    "plt.rcParams['figure.figsize'] = (10, 10)\n",
    "plt.rc('axes', labelsize=27)\n",
    "#plt.rc('axes', labelweight='bold')\n",
    "plt.rc('axes', titlesize=27)\n",
    "plt.rc('axes', titleweight='bold')\n",
    "plt.rc('font', family='sans-serif')\n",
    "plt.rcParams.update({'font.size': 20})"
   ]
  },
  {
   "cell_type": "markdown",
   "id": "dbc027e6-e74e-43d5-a8ff-a384dc770d92",
   "metadata": {},
   "source": [
    "# Step 1: Reading the Data\n",
    "\n",
    "When I send you files, they will always be easily read in as a pandas DataFrame. You'll learn as you go through physics and astronomy that every one has a different opinion on the best file format to exchange science data with. Everyone uses a different file type, method for reading files in, and data format. Everyone also belevies that thier method is the correct method and all other methods are inferior. I am no exception and refuse to change my file writing/reading methods.  \n",
    "\n",
    "Pandas DataFrames are pretty standard in data science and learning to work with them will make your life a lot easier. Let's read in the files we need and run through an example.\n"
   ]
  },
  {
   "cell_type": "code",
   "execution_count": null,
   "id": "cec28d5f-59f0-4ad0-ac9b-4460039d5bdb",
   "metadata": {},
   "outputs": [],
   "source": [
    "#File paths- CHANGE TO YOURS\n",
    "\n",
    "\n",
    "#make sure the absolute path to your data preceds the file string.\n",
    "all_ceers = pd.read_pickle('df_new.pkl')\n"
   ]
  },
  {
   "cell_type": "markdown",
   "id": "b2e26338-cf57-4c41-9f45-d81374aaa9c1",
   "metadata": {},
   "source": [
    "Let's start with just printing out the Data Frame:"
   ]
  },
  {
   "cell_type": "code",
   "execution_count": null,
   "id": "99dac7b0-a661-475c-a2f3-c033ae65db7e",
   "metadata": {
    "scrolled": true
   },
   "outputs": [],
   "source": [
    "all_ceers"
   ]
  },
  {
   "cell_type": "markdown",
   "id": "21928a6c-4da8-466c-be84-063a553d0840",
   "metadata": {},
   "source": [
    "Big Data! Let's take a look at the keyword in the Data Frame. "
   ]
  },
  {
   "cell_type": "code",
   "execution_count": null,
   "id": "0f54a2e9-6214-4f7a-aa2f-32dc89c22015",
   "metadata": {},
   "outputs": [],
   "source": [
    "all_ceers.keys()"
   ]
  },
  {
   "cell_type": "markdown",
   "id": "77897135-20de-4fdd-8026-8691e2fda02b",
   "metadata": {},
   "source": [
    "Lots of keys here. We will concentrate on RA (right ascension in decimal degrees), DEC (declination in decimal degrees), and PHOTOM_RED_SHIFT (the photometric red shift or line of sight distance) Let's build some arrays that carry just these around."
   ]
  },
  {
   "cell_type": "code",
   "execution_count": null,
   "id": "7c83438c-ba7b-48dd-9ff1-46598569f100",
   "metadata": {},
   "outputs": [],
   "source": [
    "ra_ceers = all_ceers['RA'].values\n",
    "dec_ceers = all_ceers['DEC'].values\n",
    "z_ceers = all_ceers['PHOTOM_RED_SHIFT'].values"
   ]
  },
  {
   "cell_type": "markdown",
   "id": "bee4a638-3173-4af5-8b42-7370875429c7",
   "metadata": {},
   "source": [
    "You'll also be working with matplotlib to generate graphs. It has a lot of great functionality in Python. We can make a simple plot of CEERS using matplotlib's scatter plot:"
   ]
  },
  {
   "cell_type": "code",
   "execution_count": null,
   "id": "918fe90b-e2bd-4d7b-a46b-4cd83396bfdc",
   "metadata": {},
   "outputs": [],
   "source": [
    "#Calling the scatter plot function\n",
    "plt.scatter(ra_ceers,dec_ceers, s = .1)\n",
    "\n",
    "\n",
    "#Adding x labels, y labels, and a title\n",
    "plt.xlabel('RA [deg]')\n",
    "plt.ylabel('DEC [deg]')\n",
    "#By standard convention we always dsiplay RA backwards!\n",
    "plt.gca().invert_xaxis()\n",
    "plt.title('CEERS'); #End yout matplotlib statements with a semicolon to prevent it from printing every output"
   ]
  },
  {
   "cell_type": "markdown",
   "id": "6bde4622-6be2-4c43-99e0-62f8ba062ea7",
   "metadata": {},
   "source": [
    "Another helpful tool for you will be boolean arrays. You can use thes to index larger arrays and slice them in to smaller ones. Let's build an array that looks at redshifts >5:"
   ]
  },
  {
   "cell_type": "code",
   "execution_count": null,
   "id": "86d63edd-0ed8-4b6a-b715-f631c5c06a44",
   "metadata": {},
   "outputs": [],
   "source": [
    "bool1 = all_ceers['PHOTOM_RED_SHIFT'] >4"
   ]
  },
  {
   "cell_type": "markdown",
   "id": "68428a23-28fa-4bbc-ba13-9107c88018ed",
   "metadata": {},
   "source": [
    "And index our values with the boolean:"
   ]
  },
  {
   "cell_type": "code",
   "execution_count": null,
   "id": "23981483-e766-4228-b2d0-e2c685597718",
   "metadata": {},
   "outputs": [],
   "source": [
    "ra_g4 = ra_ceers[bool1]\n",
    "dec_g4 = dec_ceers[bool1]"
   ]
  },
  {
   "cell_type": "markdown",
   "id": "bb1c45ac-9cfd-4cab-9d5e-ba445e5cf10f",
   "metadata": {},
   "source": [
    "Let's plot them over our last plot, now in another color, so we can see where they are:"
   ]
  },
  {
   "cell_type": "code",
   "execution_count": null,
   "id": "97b66814-a941-4718-b8eb-61b769a59faf",
   "metadata": {},
   "outputs": [],
   "source": [
    "#Calling the scatter plot function\n",
    "plt.scatter(ra_ceers,dec_ceers, s = .1)\n",
    "\n",
    "#Adding our new data and giving it a label for the legend\n",
    "plt.scatter(ra_g4, dec_g4, c = 'r', s = .1, label = 'z>4')\n",
    "\n",
    "\n",
    "#Adding x labels, y labels, and a title\n",
    "plt.xlabel('RA [deg]')\n",
    "plt.ylabel('DEC [deg]')\n",
    "#Call the legend to display it\n",
    "plt.legend()\n",
    "#By standard convention we always dsiplay RA backwards!\n",
    "plt.gca().invert_xaxis()\n",
    "plt.title('CEERS'); #End yout matplotlib statements with a semicolon to prevent it from printing every output"
   ]
  },
  {
   "cell_type": "markdown",
   "id": "29736f09-5d9c-4e6c-981a-f25a5370ef91",
   "metadata": {},
   "source": [
    "Wow lots of sources! But let's refine our bins and look at sources that are also at redshifts <5. We will add another array:"
   ]
  },
  {
   "cell_type": "code",
   "execution_count": null,
   "id": "d694f119-4df6-4ea0-b003-0c565ada8cf8",
   "metadata": {},
   "outputs": [],
   "source": [
    "bool2 = all_ceers['PHOTOM_RED_SHIFT'] <5"
   ]
  },
  {
   "cell_type": "markdown",
   "id": "dd39f8aa-0841-4cca-882e-df8cdae52c6e",
   "metadata": {},
   "source": [
    "And combine them with '&', which will grab the values that are true in both booleans. If we wanted all values that were true in both arrays instead, we would combine them with '|'. "
   ]
  },
  {
   "cell_type": "code",
   "execution_count": null,
   "id": "bc77956e-a35e-43b8-8947-8fc2a39038c7",
   "metadata": {},
   "outputs": [],
   "source": [
    "ra_g4l5 = ra_ceers[bool1 & bool2] \n",
    "dec_g4l5 = dec_ceers[bool1 & bool2]"
   ]
  },
  {
   "cell_type": "code",
   "execution_count": null,
   "id": "a8e95936-ad10-40d2-bf3c-3e5c5640cff7",
   "metadata": {},
   "outputs": [],
   "source": [
    "#Calling the scatter plot function\n",
    "plt.scatter(ra_ceers,dec_ceers, s = .1)\n",
    "\n",
    "#Adding our new data and giving it a label for the legend\n",
    "plt.scatter(ra_g4l5, dec_g4l5, c = 'r', s = .3, label = 'z>4')\n",
    "\n",
    "\n",
    "#Adding x labels, y labels, and a title\n",
    "plt.xlabel('RA [deg]')\n",
    "plt.ylabel('DEC [deg]')\n",
    "#Call the legend to display it\n",
    "plt.legend()\n",
    "#By standard convention we always dsiplay RA backwards!\n",
    "plt.gca().invert_xaxis()\n",
    "plt.title('CEERS'); #End yout matplotlib statements with a semicolon to prevent it from printing every output"
   ]
  },
  {
   "cell_type": "markdown",
   "id": "1438d2a7-0657-47d7-8256-f7ff61c8fe40",
   "metadata": {},
   "source": [
    "Very cool! There's been a lot of suspicion about the super high redshift sources at z>10. Remake this plot for sources of redshifts 10-12. Are they in any particular area of CEERS? Do you notice any differences?"
   ]
  },
  {
   "cell_type": "code",
   "execution_count": null,
   "id": "1edb2c84-f3df-4c2e-a93c-73f7810c7706",
   "metadata": {},
   "outputs": [],
   "source": [
    "#---YOUR WORK---\n",
    "\n",
    "#Feel free to copy/paste some stuff from above and make your own plot!"
   ]
  },
  {
   "cell_type": "markdown",
   "id": "738510ab-0607-4c25-9d1e-52296584eda3",
   "metadata": {},
   "source": [
    "# Step 2: Plotting CEERS with imshow()\n",
    "\n",
    "While these plots are cool, they are limited in terms of the mathematical questions we can ask about the galaxy population. Instead, we turn to numpy's matricies to build something representative of the population. Here's some code where we make a grid and increase all the values in the grid from one to 0."
   ]
  },
  {
   "cell_type": "code",
   "execution_count": null,
   "id": "6729ee97-bfd3-46c1-83f8-fc53e17b8e39",
   "metadata": {},
   "outputs": [],
   "source": [
    "#Creare some minimums\n",
    "xmin = 0\n",
    "xmax = 100\n",
    "ymin = 0\n",
    "ymax = 100\n",
    "#Create x and y axes. If you change the grid resolution, you'll have to change these parameters\n",
    "x_axis = np.linspace(xmin - 0.001, xmax + 0.001, num=100, endpoint=True)\n",
    "y_axis = np.linspace(ymin - 0.001, ymax + 0.001, num=100, endpoint=True)\n",
    "\n",
    "\n",
    "\n",
    "#Create an empty 100x100 matrix to store the data. You can change these values to change the map resolution,\n",
    "#but this will increase your needed computing time!\n",
    "data = np.matrix(np.zeros((100,100)))\n",
    "\n",
    "#This loop structure lets us iterate over all points in the matrix\n",
    "for xind, xval in enumerate(x_axis):\n",
    "    for yind, yval in enumerate(y_axis):\n",
    "        #Set the value for the data matrix at this point \n",
    "        data[xind, yind] += 1"
   ]
  },
  {
   "cell_type": "code",
   "execution_count": null,
   "id": "2d779ec9-d1ea-41df-80de-5586b5988a76",
   "metadata": {},
   "outputs": [],
   "source": [
    "#We can just call imshow on the data to plot our matrix:\n",
    "plt.imshow(data, origin = 'lower');"
   ]
  },
  {
   "cell_type": "markdown",
   "id": "5f14977a-5559-4306-8ec2-9dec018e13dd",
   "metadata": {},
   "source": [
    "Boring! Let's instead increase the matrix values to sin(xy). We can use numpy to evaluate sin."
   ]
  },
  {
   "cell_type": "code",
   "execution_count": null,
   "id": "a31ea47f-a395-4845-9b4d-1b34e15c1c13",
   "metadata": {},
   "outputs": [],
   "source": [
    "#Create an empty 100x100 matrix to store the data. You can change these values to change the map resolution,\n",
    "#but this will increase your needed computing time!\n",
    "data = np.matrix(np.zeros((100,100)))\n",
    "\n",
    "#This loop structure lets us iterate over all points in the matrix\n",
    "for xind, xval in enumerate(x_axis):\n",
    "    for yind, yval in enumerate(y_axis):\n",
    "        #Set the value for the data matrix at this point \n",
    "        data[xind, yind] += np.sin(xind * yind)"
   ]
  },
  {
   "cell_type": "code",
   "execution_count": null,
   "id": "0fc1c873-5639-4237-9a17-7d87361a576b",
   "metadata": {},
   "outputs": [],
   "source": [
    "#We can just call imshow on the data to plot our matrix:\n",
    "plt.imshow(data, origin = 'lower');"
   ]
  },
  {
   "cell_type": "markdown",
   "id": "8dfc5304-f254-415b-b9ae-71f54a2cda2d",
   "metadata": {},
   "source": [
    "Much more fun. Try increasing the value at every"
   ]
  },
  {
   "cell_type": "markdown",
   "id": "b4ed3ac7-752b-41fb-b961-bd0325186444",
   "metadata": {},
   "source": [
    "You'll need to turn your ra/dec arryas in to these matricies. Here's some code to re-make the plot, now with the x_axis and y_axis reflective of the values in CEERS."
   ]
  },
  {
   "cell_type": "code",
   "execution_count": null,
   "id": "f25b5f89-2b3b-4ac7-b228-103c82cac29f",
   "metadata": {},
   "outputs": [],
   "source": [
    "#Creare some minimums and maximums to reflect the CEERS filed. You may need to play around with adding/subtracting\n",
    "#values to make the data matrix reflect CEERS\n",
    "\n",
    "\n",
    "xmin = np.min(ra_ceers)\n",
    "xmax = np.max(ra_ceers)\n",
    "ymin = np.min(dec_ceers)\n",
    "ymax = np.max(dec_ceers)\n",
    "#Create x and y axes. If you change the grid resolution, you'll have to change these parameters\n",
    "x_axis = np.linspace(xmin - 0.001, xmax + 0.001, num=100, endpoint=True)\n",
    "y_axis = np.linspace(ymin - 0.001, ymax + 0.001, num=100, endpoint=True)\n",
    "\n",
    "\n",
    "\n",
    "#Create an empty 100x100 matrix to store the data. You can change these values to change the map resolution,\n",
    "#but this will increase your needed computing time!\n",
    "data = np.matrix(np.zeros((100,100)))\n",
    "\n",
    "#This loop structure lets us iterate over all points in the matrix\n",
    "for xind, xval in enumerate(x_axis):\n",
    "    for yind, yval in enumerate(y_axis):\n",
    "        #Set the value for the data matrix at this point \n",
    "        data[xind, yind] += xval * yval\n",
    "\n",
    "#We can just call imshow on the data to plot our matrix:\n",
    "plt.imshow(data, origin = 'lower');\n"
   ]
  },
  {
   "cell_type": "markdown",
   "id": "f24752da-4955-4600-b3d4-637129f1e1b0",
   "metadata": {},
   "source": [
    "Next, edit the loop that changes the value of the data matrix to increase the value in the array by 1 only if a CEERS source falls within that pixel."
   ]
  },
  {
   "cell_type": "code",
   "execution_count": null,
   "id": "0099f4f6-7c80-4ddd-a2a3-354d8dc6adc7",
   "metadata": {},
   "outputs": [],
   "source": [
    "#Creare some minimums and maximums to reflect the CEERS filed. You may need to play around with adding/subtracting\n",
    "#values to make the data matrix reflect CEERS\n",
    "\n",
    "\n",
    "xmin = np.min(ra_ceers)\n",
    "xmax = np.max(ra_ceers)\n",
    "ymin = np.min(dec_ceers)\n",
    "ymax = np.max(dec_ceers)\n",
    "#Create x and y axes. If you change the grid resolution, you'll have to change these parameters\n",
    "x_axis = np.linspace(xmin - 0.001, xmax + 0.001, num=100, endpoint=True)\n",
    "y_axis = np.linspace(ymin - 0.001, ymax + 0.001, num=100, endpoint=True)\n",
    "\n",
    "\n",
    "\n",
    "#Create an empty 100x100 matrix to store the data. You can change these values to change the map resolution,\n",
    "#but this will increase your needed computing time!\n",
    "data = np.matrix(np.zeros((100,100)))\n",
    "\n",
    "\n",
    "#This loop structure lets us iterate over all points in the matrix\n",
    "for xind, xval in enumerate(x_axis):\n",
    "    for yind, yval in enumerate(y_axis):\n",
    "        #---------------------\n",
    "        #Edit the code down here and make your plot\n",
    "        if.....\n",
    "            data[xind, yind] += ....\n",
    "        #---------------------\n"
   ]
  },
  {
   "cell_type": "code",
   "execution_count": null,
   "id": "c46ce16a-ea64-42a3-ab6e-efa30d81174b",
   "metadata": {},
   "outputs": [],
   "source": [
    "#Now you get to customize this! add a color bar with a label, pick a color map, change the\n",
    "#image size, and make the x and y axis labels, and make sure to flip the RA axis (like we did with the scatter plot)\n",
    "\n",
    "\n",
    "plt.imshow(data, origin = 'lower');\n"
   ]
  },
  {
   "cell_type": "markdown",
   "id": "aff97e5f-8c12-4481-9d8f-a87e6fddeb0a",
   "metadata": {},
   "source": [
    "# Step 3: Adding the LRDs\n",
    "\n",
    "This is the paper we will use for the CEERS LRDs\n",
    "\n",
    "https://ui.adsabs.harvard.edu/abs/2025ApJ...986..126K/abstract\n",
    "\n",
    "The data from this paper is hosted at: https://github.com/dalekocevski/Kocevski24\n",
    "\n",
    "You'll take a few steps here:\n",
    "\n",
    "- read in the data file for LRDs. Make arrays for their RA, DEC, and redshift\n",
    "  \n",
    "- create a scatter plot of the LRDs\n",
    "\n",
    "- plot the LRDs over your data matrix for CEERS\n",
    "\n"
   ]
  },
  {
   "cell_type": "code",
   "execution_count": null,
   "id": "0b5840f0-c1d3-4f8f-9d10-cbbc4fd473b6",
   "metadata": {},
   "outputs": [],
   "source": []
  },
  {
   "cell_type": "code",
   "execution_count": null,
   "id": "0e73fb4a-77c2-4350-94f6-5519116b0a0b",
   "metadata": {},
   "outputs": [],
   "source": []
  },
  {
   "cell_type": "code",
   "execution_count": null,
   "id": "bf89f401-4073-4359-a5d8-17ae09782c2d",
   "metadata": {},
   "outputs": [],
   "source": []
  },
  {
   "cell_type": "code",
   "execution_count": null,
   "id": "4027698c-1628-413d-9782-c15f209f26b8",
   "metadata": {},
   "outputs": [],
   "source": []
  },
  {
   "cell_type": "markdown",
   "id": "85d11d6d-f334-4992-b1ac-fbdc3ba65b3a",
   "metadata": {},
   "source": [
    "# Step 4: Redshift Bins\n",
    "\n",
    "Lastly, we will break the CEERS and LRD data sets in to redshift bins. You'll want bins that span about 1 redshift. This will take a few steps:\n",
    "\n",
    "- Make histograms from matplotlib of the redhsift distribution of CEERS and the LRDs. This will give us a better idea of what the correct redshifts bins to use are.\n",
    "\n",
    "- Modify your CEERS code to only add galaxies to the data matrix if they fall within the target redhsift bin\n",
    "\n",
    "- Over plot the LRDs that fall in this redshift bin"
   ]
  },
  {
   "cell_type": "code",
   "execution_count": null,
   "id": "6d14e1e9-de62-47dd-a748-af33a5de1e4a",
   "metadata": {},
   "outputs": [],
   "source": []
  },
  {
   "cell_type": "code",
   "execution_count": null,
   "id": "edae2b0c-3098-40f9-a32c-834a01f7bdaf",
   "metadata": {},
   "outputs": [],
   "source": []
  },
  {
   "cell_type": "code",
   "execution_count": null,
   "id": "194cefa9-5475-499d-8b5e-9f273e4fad65",
   "metadata": {},
   "outputs": [],
   "source": []
  },
  {
   "cell_type": "markdown",
   "id": "f0573574-e1db-4ed7-9b1d-50e836129619",
   "metadata": {},
   "source": [
    "# Step 5: Do LRDs fall in over-dense or under-dense environments?\n",
    "\n",
    "Now we get to answer our question! Do LRDs live in pixels with more or less sources?\n",
    "\n",
    "- find the mean value of your CEERS matrix. Plot a histogram of your pixel values. \n",
    "\n",
    "- calculate the typical pixel value of the pixels containing LRDs. What is typical value for LRDs?\n",
    "\n",
    "- make the same histograms for your LRDs\n",
    "\n",
    "- Do LRDs tend to be in pixels that are more or less dense than the background population?"
   ]
  },
  {
   "cell_type": "markdown",
   "id": "a3e9d5f2-1348-475c-bec4-8e85303de99b",
   "metadata": {},
   "source": [
    "Next Steps:\n",
    "\n",
    "If we finish early or want to continue the project next semester, these are some of the things we could do with your data:\n",
    "\n",
    "- weighted gaussian smoothing\n",
    "\n",
    "- comparison AGN https://ui.adsabs.harvard.edu/abs/2025ApJ...986..165T/abstract\n",
    "\n",
    "- NNN calculations"
   ]
  },
  {
   "cell_type": "code",
   "execution_count": null,
   "id": "79f428ce-206d-4170-83a2-6ab73ae6d638",
   "metadata": {},
   "outputs": [],
   "source": []
  }
 ],
 "metadata": {
  "kernelspec": {
   "display_name": "Python 3 (ipykernel)",
   "language": "python",
   "name": "python3"
  },
  "language_info": {
   "codemirror_mode": {
    "name": "ipython",
    "version": 3
   },
   "file_extension": ".py",
   "mimetype": "text/x-python",
   "name": "python",
   "nbconvert_exporter": "python",
   "pygments_lexer": "ipython3",
   "version": "3.9.23"
  }
 },
 "nbformat": 4,
 "nbformat_minor": 5
}
